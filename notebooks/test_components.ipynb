{
 "cells": [
  {
   "cell_type": "code",
   "execution_count": 16,
   "metadata": {},
   "outputs": [
    {
     "name": "stdout",
     "output_type": "stream",
     "text": [
      "The autoreload extension is already loaded. To reload it, use:\n",
      "  %reload_ext autoreload\n"
     ]
    }
   ],
   "source": [
    "# ar .. folder to sys.path\n",
    "import sys\n",
    "sys.path.append('..')\n",
    "\n",
    "from osi.src.WebScraper import WebScraper\n",
    "from osi.src.Worker import Worker\n",
    "\n",
    "# autorealod modules\n",
    "%load_ext autoreload\n",
    "%autoreload 2"
   ]
  },
  {
   "cell_type": "code",
   "execution_count": 3,
   "metadata": {},
   "outputs": [],
   "source": [
    "scraper = WebScraper()"
   ]
  },
  {
   "cell_type": "code",
   "execution_count": 4,
   "metadata": {},
   "outputs": [],
   "source": [
    "urls = scraper.google_search(\"machine learning\", num_results=5)"
   ]
  },
  {
   "cell_type": "code",
   "execution_count": 5,
   "metadata": {},
   "outputs": [],
   "source": [
    "text = scraper.scrape(urls[0])"
   ]
  },
  {
   "cell_type": "code",
   "execution_count": 6,
   "metadata": {},
   "outputs": [],
   "source": [
    "openai_api_key = \n",
    "# add to environment variables\n",
    "import os\n",
    "os.environ[\"OPENAI_API_KEY\"] = openai_api_key"
   ]
  },
  {
   "cell_type": "code",
   "execution_count": 25,
   "metadata": {},
   "outputs": [
    {
     "name": "stdout",
     "output_type": "stream",
     "text": [
      "Connection successful!\n",
      "Available models:\n"
     ]
    }
   ],
   "source": [
    "worker1 = Worker()"
   ]
  },
  {
   "cell_type": "code",
   "execution_count": 26,
   "metadata": {},
   "outputs": [
    {
     "name": "stdout",
     "output_type": "stream",
     "text": [
      "Worker: Generating search queries for 'kubernetes architecture'...\n",
      "Worker: Performing summary for '1. 'Understanding Kubernetes architecture and components''...\n",
      "Found 3 results for '1. 'Understanding Kubernetes architecture and components''\n",
      "Worker: Summarizing web page...\n",
      "Worker: Summarizing web page...\n",
      "Worker: Summarizing web page...\n",
      "Worker: Performing summary for '2. 'Comparison of Kubernetes architecture with other container orchestration tools''...\n",
      "Found 3 results for '2. 'Comparison of Kubernetes architecture with other container orchestration tools''\n",
      "Worker: Summarizing web page...\n",
      "Worker: Summarizing web page...\n",
      "Truncating message from 19219 to 15988 symbols\n",
      "Worker: Performing summary for '3. 'Best practices for designing and implementing Kubernetes architecture''...\n",
      "Found 3 results for '3. 'Best practices for designing and implementing Kubernetes architecture''\n",
      "Worker: Summarizing web page...\n",
      "Worker: Summarizing web page...\n",
      "Worker: Summarizing web page...\n",
      "Worker: Summaries:\n",
      "Kubernetes is a platform for creating, deploying, managing, and scaling application containers across one or more host clusters. It consists of a control plane and data plane, and nodes can run on regular compute instances or low cost spot instances. The control plane serves as the nerve center of each Kubernetes cluster and includes components that control the cluster, its state data, and configuration. Nodes are physical or virtual machines that can run pods as part of a Kubernetes cluster, and each node contains a kubelet responsible\n",
      "\n",
      "===============================\n",
      "\n",
      "Kubernetes is a container management system used to manage containerized applications in multiple environments. It was developed by Google and released in 2014 to manage applications running in the cloud. Kubernetes architecture comprises master and slave nodes, and persistent volumes. Pods are groups of containers deployed together on the same host, and deployments are sets of identical pods. Ingress provides load balancing, SSL termination, and name-based virtual hosting. Companies like Black Rock have merged Kubernetes with their existing systems for better performance.\n",
      "\n",
      "===============================\n",
      "\n",
      "This guide provides a comprehensive overview of Kubernetes architecture, explaining each component in detail with illustrations. Kubernetes is a distributed system with multiple components spread across different servers over a network, called a Kubernetes cluster. The control plane is responsible for container orchestration and maintaining the desired state of the cluster, while worker nodes are responsible for running containerized applications. The guide covers each control plane component and important concepts, as well as worker node components like Kubelet and Kube-proxy. Additionally, it discusses addon\n",
      "\n",
      "===============================\n",
      "\n",
      "The rise of containerization technology and increased attention from enterprises and technologists have led to more containerized applications being deployed to the cloud. Container orchestration tools become an indispensable part of enterprises’ container management toolbox as the scale and complexity of production-critical containers rise. Kubernetes and Docker Swarm are two famous, leading players in the container orchestration market. Kubernetes is an open-source, community-driven Container Orchestration Engine (COE) inspired by a Google project called Borg, while Docker Swarm is\n",
      "\n",
      "===============================\n",
      "\n",
      "Containerization with DevOps processes has made building, deploying, and scaling cloud-based applications faster and easier. Kubernetes and Docker Swarm are two container orchestration engines (COEs) that help manage the complexity of web-scale applications. Kubernetes is an open-source COE developed by Google that can be deployed on almost any infrastructure and comes with numerous container management features built-in. Docker Swarm is another popular open-source COE that is highly scalable, simple to deploy, and provides container management features such as load\n",
      "\n",
      "===============================\n",
      "\n",
      "CloudZero is a cloud cost intelligence platform that helps engineering and finance teams work together to maximize cloud profitability. It offers features such as customized tours, cost guardrails, and cost coaching for engineering teams. CloudZero can manage all discounts in one place and organize spend to match a business's needs. It can also identify and measure software COGS and automatically identify wasted spend. The article also provides a guide on Kubernetes architecture and lists 10 best practices for optimizing a Kubernetes environment. CloudZero's Kubernetes\n",
      "\n",
      "===============================\n",
      "\n",
      "This blog discusses best practices for setting up a Kubernetes cluster, including network design, security considerations, high availability, scaling, ingress, backup and restore, patching, cluster capacity, storage, and logging and monitoring. It emphasizes the importance of following best practices to avoid issues and compromises for the business. The author also suggests that technical architects keep these considerations in mind when designing the cluster architecture. The opinions expressed are solely those of the author and do not reflect the views of any employer.\n",
      "\n",
      "===============================\n",
      "\n",
      "Kubernetes is an open-source orchestration tool developed by Google for managing containerized applications in different environments. It automates deployment, scaling, and management of applications, making it easier to manage many containers in a production environment. Kubernetes architecture follows a client-server architecture, with a cluster consisting of at least one worker node and a control plane that manages the worker nodes. The control plane is composed of the API server, the scheduler, the controller manager, the etcd, and an optional cloud controller\n",
      "Worker: Generating SBAR response...\n"
     ]
    },
    {
     "data": {
      "text/plain": [
       "'Situation: Kubernetes is an open-source container orchestration tool used to manage containerized applications in various environments. \\nBackground: Kubernetes architecture comprises a control plane and worker nodes, with pods and deployments being the main components. It is highly scalable, simple to deploy, and provides container management features such as load balancing, SSL termination, and name-based virtual hosting. \\nAssessment: Kubernetes is gaining popularity due to its ability to automate deployment, scaling, and management of applications, making it easier to manage many containers in a production environment. Best practices for setting up a Kubernetes cluster include network design, security considerations, high availability, scaling, ingress, backup and restore, patching, cluster capacity, storage, and logging and monitoring. \\nRecommendation'"
      ]
     },
     "execution_count": 26,
     "metadata": {},
     "output_type": "execute_result"
    }
   ],
   "source": [
    "worker1.perform_task(\"kubernetes architecture\")"
   ]
  },
  {
   "cell_type": "code",
   "execution_count": null,
   "metadata": {},
   "outputs": [],
   "source": []
  }
 ],
 "metadata": {
  "kernelspec": {
   "display_name": ".venv_osi",
   "language": "python",
   "name": "python3"
  },
  "language_info": {
   "codemirror_mode": {
    "name": "ipython",
    "version": 3
   },
   "file_extension": ".py",
   "mimetype": "text/x-python",
   "name": "python",
   "nbconvert_exporter": "python",
   "pygments_lexer": "ipython3",
   "version": "3.10.6"
  },
  "orig_nbformat": 4
 },
 "nbformat": 4,
 "nbformat_minor": 2
}
